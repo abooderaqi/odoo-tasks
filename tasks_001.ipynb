{
  "nbformat": 4,
  "nbformat_minor": 0,
  "metadata": {
    "colab": {
      "provenance": []
    },
    "kernelspec": {
      "name": "python3",
      "display_name": "Python 3"
    },
    "language_info": {
      "name": "python"
    }
  },
  "cells": [
    {
      "cell_type": "markdown",
      "source": [
        "\n",
        "\n",
        "# Task 1\n",
        "\n"
      ],
      "metadata": {
        "id": "IZRR5iRF_jOo"
      }
    },
    {
      "cell_type": "code",
      "execution_count": null,
      "metadata": {
        "colab": {
          "base_uri": "https://localhost:8080/"
        },
        "id": "UvdY1gmC_eTQ",
        "outputId": "adbd3956-1b79-41c3-e1d5-f49418d0e0fe"
      },
      "outputs": [
        {
          "output_type": "stream",
          "name": "stdout",
          "text": [
            "[1, 2, 3, 4]\n"
          ]
        }
      ],
      "source": [
        "def remove_duplicate(lst: list) -> list:\n",
        "    remove_set:set = set(lst)\n",
        "    no_duplicate_list:list = list(remove_set)\n",
        "    return no_duplicate_list\n",
        "\n",
        "\n",
        "\n",
        "list_dup:list = [1, 2, 2, 3, 1, 4]\n",
        "print(remove_duplicate(list_dup))\n",
        "\n",
        "\n",
        "\n"
      ]
    },
    {
      "cell_type": "markdown",
      "source": [
        "# Task 2"
      ],
      "metadata": {
        "id": "iQMhMyMo_rZp"
      }
    },
    {
      "cell_type": "code",
      "source": [
        "class Employee:\n",
        "    def __init__(self, name:str, salary:int):\n",
        "        self.name = name\n",
        "        self.salary = salary\n",
        "\n",
        "    def get_details(self):\n",
        "        print(f'Name: {self.name}, Salary: {self.salary}')\n",
        "\n",
        "\n",
        "class Manager(Employee):\n",
        "    def __init__(self,name:str,salary:int,department:str):\n",
        "        super().__init__(name,salary)\n",
        "        self.department = department\n",
        "\n",
        "    def get_details(self):\n",
        "        print(f'Name: {self.name}, Salary: {self.salary}, Department: {self.department}')\n",
        "\n",
        "\n",
        "m1:Manager = Manager('Abood',1200,'IT')\n",
        "m1.get_details()\n"
      ],
      "metadata": {
        "colab": {
          "base_uri": "https://localhost:8080/"
        },
        "id": "EhKUIffa_ucn",
        "outputId": "80be1454-18c2-4c2f-f02b-34b8f2253840"
      },
      "execution_count": null,
      "outputs": [
        {
          "output_type": "stream",
          "name": "stdout",
          "text": [
            "Name: Abood, Salary: 1200, Department: IT\n"
          ]
        }
      ]
    },
    {
      "cell_type": "markdown",
      "source": [
        "#Task 3"
      ],
      "metadata": {
        "id": "ZYx2f7l6Jii0"
      }
    },
    {
      "cell_type": "code",
      "source": [
        "nums = [1,2,3,4,5,6]\n",
        "even_numbers:list = list(filter(lambda x:x%2==0, nums))\n",
        "square_even_numbers:list = list(map(lambda x:x**2, even_numbers))\n",
        "\n",
        "print(square_even_numbers)\n"
      ],
      "metadata": {
        "colab": {
          "base_uri": "https://localhost:8080/"
        },
        "id": "0zCJjqEUJlIg",
        "outputId": "39619bd0-80e1-4790-c012-e7da56c99101"
      },
      "execution_count": null,
      "outputs": [
        {
          "output_type": "stream",
          "name": "stdout",
          "text": [
            "[4, 16, 36]\n"
          ]
        }
      ]
    },
    {
      "cell_type": "markdown",
      "source": [
        "#Task 4"
      ],
      "metadata": {
        "id": "NWBhwyY1JsIK"
      }
    },
    {
      "cell_type": "code",
      "source": [
        "def safe_divide(x,y):\n",
        "    try:    print(x/y)\n",
        "    except ZeroDivisionError: print('Cannot divide by zero')\n",
        "\n",
        "safe_divide(10,2)\n",
        "safe_divide(5,0)"
      ],
      "metadata": {
        "colab": {
          "base_uri": "https://localhost:8080/"
        },
        "id": "1XfUgGMXJtmB",
        "outputId": "83e916c2-b791-46c7-f141-4b673a1cd538"
      },
      "execution_count": null,
      "outputs": [
        {
          "output_type": "stream",
          "name": "stdout",
          "text": [
            "5.0\n",
            "Cannot divide by zero\n"
          ]
        }
      ]
    }
  ]
}